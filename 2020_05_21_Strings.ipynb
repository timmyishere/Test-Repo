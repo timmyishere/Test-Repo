{
  "nbformat": 4,
  "nbformat_minor": 0,
  "metadata": {
    "colab": {
      "name": "2020-05-21 Strings.ipynb",
      "provenance": [],
      "collapsed_sections": [],
      "toc_visible": true,
      "authorship_tag": "ABX9TyMBKRyG4+AS4Xn7Pigyu0f0",
      "include_colab_link": true
    },
    "kernelspec": {
      "name": "python3",
      "display_name": "Python 3"
    }
  },
  "cells": [
    {
      "cell_type": "markdown",
      "metadata": {
        "id": "view-in-github",
        "colab_type": "text"
      },
      "source": [
        "<a href=\"https://colab.research.google.com/github/timmyishere/Test-Repo/blob/master/2020_05_21_Strings.ipynb\" target=\"_parent\"><img src=\"https://colab.research.google.com/assets/colab-badge.svg\" alt=\"Open In Colab\"/></a>"
      ]
    },
    {
      "cell_type": "markdown",
      "metadata": {
        "id": "J_3eqID0onev",
        "colab_type": "text"
      },
      "source": [
        "# Strings"
      ]
    },
    {
      "cell_type": "markdown",
      "metadata": {
        "id": "fQZdrzn3o269",
        "colab_type": "text"
      },
      "source": [
        "## Raw Strings\n",
        "* put r before the string to indicate that is a raw string.\n",
        "* raw strings ignore escape characters. \n",
        "* The backslashes will be displayed"
      ]
    },
    {
      "cell_type": "code",
      "metadata": {
        "id": "BbC6xf7ZoR-D",
        "colab_type": "code",
        "colab": {
          "base_uri": "https://localhost:8080/",
          "height": 34
        },
        "outputId": "b1f670ad-e9bc-47d1-8899-484d6885ba3e"
      },
      "source": [
        "rawstr=r'C:\\new_folder\\Folder1\\Folder2\\test_file1.html' \n",
        "print(rawstr) "
      ],
      "execution_count": null,
      "outputs": [
        {
          "output_type": "stream",
          "text": [
            "C:\\new_folder\\Folder1\\Folder2\\test_file1.html\n"
          ],
          "name": "stdout"
        }
      ]
    },
    {
      "cell_type": "markdown",
      "metadata": {
        "id": "_FKRb7RaoZUx",
        "colab_type": "text"
      },
      "source": [
        "\n",
        "* Without the r (lines 1 & 2), the string will be treated like a standard string. \n",
        "* With the r (lines 3 & 4), the string will not require the extra backslashes and is printed correctly\n"
      ]
    },
    {
      "cell_type": "code",
      "metadata": {
        "id": "uTEiuxbspfGQ",
        "colab_type": "code",
        "colab": {
          "base_uri": "https://localhost:8080/",
          "height": 86
        },
        "outputId": "c0c3fe6b-11cb-44e6-9002-b17d8166fd1d"
      },
      "source": [
        "notrawstr='\\nC:\\new_folder\\Folder1\\Folder2\\test_file1.html' \n",
        "print(notrawstr) \n",
        "test=r'C:\\new_folder\\test.html' \n",
        "print(test) "
      ],
      "execution_count": null,
      "outputs": [
        {
          "output_type": "stream",
          "text": [
            "\n",
            "C:\n",
            "ew_folder\\Folder1\\Folder2\test_file1.html\n",
            "C:\\new_folder\\test.html\n"
          ],
          "name": "stdout"
        }
      ]
    },
    {
      "cell_type": "markdown",
      "metadata": {
        "id": "YII557ocqEqc",
        "colab_type": "text"
      },
      "source": [
        "## Escape characters\n",
        "* Escape characters are used to print special characters\n",
        "* \\\\' or \\\\\" for quotes.\n",
        "* \\\\\\ for forward slash.\n",
        "* \\\\n for new line\n",
        "* \\\\t for tab  "
      ]
    },
    {
      "cell_type": "code",
      "metadata": {
        "id": "c-5_DL5Uqsuw",
        "colab_type": "code",
        "colab": {
          "base_uri": "https://localhost:8080/",
          "height": 86
        },
        "outputId": "5ba5e45f-fce1-4dd8-95d6-7eec905f2e91"
      },
      "source": [
        "# putting a ' inside the quotes\n",
        "s1='It\\'s all mine' \n",
        "print(s1) \n",
        "\n",
        "# putting a \" inside the quotes\n",
        "s2='We are all really \\\"happy\\\"!!!!!!' \n",
        "print(s2) \n",
        "\n",
        "# note you can put \" inside '  '\n",
        "s3='I \"have\" done it now'\n",
        "print(s3)\n",
        "\n",
        "# use double quotes to put single quotes inside a string\n",
        "s4=\"It's my cat\" \n",
        "print(s4) "
      ],
      "execution_count": null,
      "outputs": [
        {
          "output_type": "stream",
          "text": [
            "It's all mine\n",
            "We are all really \"happy\"!!!!!!\n",
            "I \"have\" done it now\n",
            "It's my cat\n"
          ],
          "name": "stdout"
        }
      ]
    },
    {
      "cell_type": "code",
      "metadata": {
        "id": "YIf06IxprjQ6",
        "colab_type": "code",
        "colab": {
          "base_uri": "https://localhost:8080/",
          "height": 104
        },
        "outputId": "3800b447-7c33-43e3-eeab-3a096a783d3f"
      },
      "source": [
        "# \\n is newline and #t is tab \n",
        "s5='First line\\nSecond Line' \n",
        "print(s5) \n",
        "print('\\n')\n",
        "\n",
        "s6='The tab starts here\\tand here\\t!' \n",
        "print(s6) "
      ],
      "execution_count": null,
      "outputs": [
        {
          "output_type": "stream",
          "text": [
            "First line\n",
            "Second Line\n",
            "\n",
            "\n",
            "The tab starts here\tand here\t!\n"
          ],
          "name": "stdout"
        }
      ]
    },
    {
      "cell_type": "markdown",
      "metadata": {
        "id": "7pVSKepjsQfN",
        "colab_type": "text"
      },
      "source": [
        "### Multiline strings\n",
        "* Use triple single quotes to get multi-line strings"
      ]
    },
    {
      "cell_type": "code",
      "metadata": {
        "id": "k33Pgfp1sQ9V",
        "colab_type": "code",
        "colab": {
          "base_uri": "https://localhost:8080/",
          "height": 52
        },
        "outputId": "e7fc52b7-d627-4228-aa76-aba31f79c492"
      },
      "source": [
        "# use triple quotes to get multiline strings \n",
        "message='''The is a meandering string which shows \n",
        "many many and many things''' \n",
        "print(message) "
      ],
      "execution_count": null,
      "outputs": [
        {
          "output_type": "stream",
          "text": [
            "The is a meandering string which shows \n",
            "many many and many things\n"
          ],
          "name": "stdout"
        }
      ]
    },
    {
      "cell_type": "markdown",
      "metadata": {
        "id": "MXlbKZtJslR4",
        "colab_type": "text"
      },
      "source": [
        "* Use triple double quotes to get multi-line comments"
      ]
    },
    {
      "cell_type": "code",
      "metadata": {
        "id": "mCKSPwaCsmBg",
        "colab_type": "code",
        "colab": {
          "base_uri": "https://localhost:8080/",
          "height": 34
        },
        "outputId": "b56d0f07-8591-4f00-caf8-bd677e7bd1a1"
      },
      "source": [
        "\"\"\" Multiline comments \n",
        "can also be created using the triple quotes \n",
        "Like what I have done here....\"\"\" \n",
        "print('hi')"
      ],
      "execution_count": null,
      "outputs": [
        {
          "output_type": "stream",
          "text": [
            "hi\n"
          ],
          "name": "stdout"
        }
      ]
    },
    {
      "cell_type": "markdown",
      "metadata": {
        "id": "piBXQ5zvs4ue",
        "colab_type": "text"
      },
      "source": [
        "## Indexing and slicing strings. \n",
        "### Indexing a string's elements.\n",
        "* The first character in a string is at index=0.\n",
        "* You can reference the rear of the string by using a negatively signed index.\n",
        "* An index of -1 refers to the last character in a string."
      ]
    },
    {
      "cell_type": "code",
      "metadata": {
        "id": "oRfSzKjetNzs",
        "colab_type": "code",
        "colab": {
          "base_uri": "https://localhost:8080/",
          "height": 86
        },
        "outputId": "416701db-3db3-4264-b110-ce8d567c0a1d"
      },
      "source": [
        "s='I am a tool' \n",
        "print(s[0]) #1st letter \n",
        "print(s[2]) #3rd letter \n",
        "print(s[-1]) #last letter \n",
        "print(s[-2]) #2nd to last letter "
      ],
      "execution_count": null,
      "outputs": [
        {
          "output_type": "stream",
          "text": [
            "I\n",
            "a\n",
            "l\n",
            "o\n"
          ],
          "name": "stdout"
        }
      ]
    },
    {
      "cell_type": "markdown",
      "metadata": {
        "id": "8uW2wOApt_Jv",
        "colab_type": "text"
      },
      "source": [
        "#### Using a loop to iterate through the elements of a string."
      ]
    },
    {
      "cell_type": "code",
      "metadata": {
        "id": "u48RPjDruFkf",
        "colab_type": "code",
        "colab": {
          "base_uri": "https://localhost:8080/",
          "height": 295
        },
        "outputId": "cac17117-413d-4107-98f7-78b60541d562"
      },
      "source": [
        "s='I am no tool' \n",
        "print('The length of',s,'is:' )\n",
        "print(len(s)) \n",
        "print('----------\\n')\n",
        "\n",
        "for n in range(len(s)): \n",
        "    print('s['+str(n)+']='+s[n]) "
      ],
      "execution_count": null,
      "outputs": [
        {
          "output_type": "stream",
          "text": [
            "The length of I am no tool is:\n",
            "12\n",
            "----------\n",
            "\n",
            "s[0]=I\n",
            "s[1]= \n",
            "s[2]=a\n",
            "s[3]=m\n",
            "s[4]= \n",
            "s[5]=n\n",
            "s[6]=o\n",
            "s[7]= \n",
            "s[8]=t\n",
            "s[9]=o\n",
            "s[10]=o\n",
            "s[11]=l\n"
          ],
          "name": "stdout"
        }
      ]
    },
    {
      "cell_type": "markdown",
      "metadata": {
        "id": "eHK0DGl8usJj",
        "colab_type": "text"
      },
      "source": [
        "### Slicing a string\n",
        "* Slicing is used to pick out a selection of characters in a string.\n",
        "* The first character position is 0 not 1.\n",
        "* Use the format aString[x:y] to start slicing at character position x, up to but NOT including the character at position y.\n",
        "* For aString[x:] the slicing will be from character position 'x' to the end.\n",
        "* For aString[:x] the slicing will be from character positon 0, up to but not including character position 'x'.\n",
        "\n",
        "\n",
        "\n",
        "\n",
        "\n",
        "\n",
        "\n",
        "\n",
        "\n"
      ]
    },
    {
      "cell_type": "code",
      "metadata": {
        "id": "awtejj2PvT6v",
        "colab_type": "code",
        "colab": {
          "base_uri": "https://localhost:8080/",
          "height": 121
        },
        "outputId": "2d61a42b-54ce-40cd-83c7-d99148c910a6"
      },
      "source": [
        "s=\"I am no tool\" \n",
        "print('s[2:4]='+s[2:4])     # s[2:4] will pick out characters at index=2, up to and including index=3\n",
        "print('s[8:11]='+s[8:11])   # s[8:11] will pick out characters at 8,9 and 10 in aString\n",
        "print('s[5:9]='+s[5:9])     # s[5:9] will pick out characters 5,6,7,8 and NOT 9.\n",
        "print('s[5:]='+s[5:])       # s[5:11] will pick out characters 5,6,7,8,9,10,11 \n",
        "print('s[:3]='+s[:3])       # s[:3] will pick out characters 0,1,2 \n",
        "print('s[6:]='+s[6:])       # s[6:] will print from position 6 onwards. "
      ],
      "execution_count": null,
      "outputs": [
        {
          "output_type": "stream",
          "text": [
            "s[2:4]=am\n",
            "s[8:11]=too\n",
            "s[5:9]=no t\n",
            "s[5:]=no tool\n",
            "s[:3]=I a\n",
            "s[6:]=o tool\n"
          ],
          "name": "stdout"
        }
      ]
    },
    {
      "cell_type": "markdown",
      "metadata": {
        "id": "Qg7KqAWNyGgV",
        "colab_type": "text"
      },
      "source": [
        "## Checking if one string is inside another string.\n",
        "\n",
        "Use IN and NOT IN."
      ]
    },
    {
      "cell_type": "code",
      "metadata": {
        "id": "X8R7P335yHao",
        "colab_type": "code",
        "colab": {
          "base_uri": "https://localhost:8080/",
          "height": 34
        },
        "outputId": "dd62f4c0-a736-4413-eaae-c20e85c85740"
      },
      "source": [
        "# use the in and not in operators \n",
        "s1='boo' \n",
        "s2='The book was on the shelf' \n",
        "answer=s1 in s2 \n",
        "print('\\''+s1+'\\' is in \\''+s2+'\\' = '+str(answer))"
      ],
      "execution_count": null,
      "outputs": [
        {
          "output_type": "stream",
          "text": [
            "'boo' is in 'The book was on the shelf' = True\n"
          ],
          "name": "stdout"
        }
      ]
    },
    {
      "cell_type": "code",
      "metadata": {
        "id": "skF9MEJo0sPW",
        "colab_type": "code",
        "colab": {
          "base_uri": "https://localhost:8080/",
          "height": 34
        },
        "outputId": "6e81cbbc-ff7a-4346-d528-a65155531be4"
      },
      "source": [
        "# using NOT IN to check the string 'u' not in s2 \n",
        "'u' not in s2 "
      ],
      "execution_count": null,
      "outputs": [
        {
          "output_type": "execute_result",
          "data": {
            "text/plain": [
              "True"
            ]
          },
          "metadata": {
            "tags": []
          },
          "execution_count": 16
        }
      ]
    },
    {
      "cell_type": "code",
      "metadata": {
        "id": "GKkMxojP2J3m",
        "colab_type": "code",
        "colab": {
          "base_uri": "https://localhost:8080/",
          "height": 69
        },
        "outputId": "ee4f3ea7-6ad8-40ee-e894-217a21eebd25"
      },
      "source": [
        "# Other examples of IN and NOT IN \n",
        "a1='Help' in 'I need some Help' \n",
        "print(a1) \n",
        "\n",
        "a2='Help' in 'I need help' \n",
        "print(a2) \n",
        "\n",
        "a3='zoo' not in 'my big farm' \n",
        "print(a3) "
      ],
      "execution_count": null,
      "outputs": [
        {
          "output_type": "stream",
          "text": [
            "True\n",
            "False\n",
            "True\n"
          ],
          "name": "stdout"
        }
      ]
    },
    {
      "cell_type": "markdown",
      "metadata": {
        "id": "Sx0ABsB021Uy",
        "colab_type": "text"
      },
      "source": [
        "## Finding a string and replacing a string \n",
        "### Searching through a string\n",
        "* Use the Find function to search through a string.\n",
        "* Returns the starting position of the search string in the target string.\n",
        "* Returns -1 if it cannot find any instances of the substring in the target \n",
        "string. "
      ]
    },
    {
      "cell_type": "code",
      "metadata": {
        "id": "7NuMafb026Kq",
        "colab_type": "code",
        "colab": {
          "base_uri": "https://localhost:8080/",
          "height": 34
        },
        "outputId": "7a9a9ade-b8e2-4d60-f96b-82bdee0afc66"
      },
      "source": [
        "teststr='The quick brown fox jumped over the lazy dog' \n",
        "pos=teststr.find('quick') \n",
        "print(pos) "
      ],
      "execution_count": null,
      "outputs": [
        {
          "output_type": "stream",
          "text": [
            "4\n"
          ],
          "name": "stdout"
        }
      ]
    },
    {
      "cell_type": "code",
      "metadata": {
        "id": "9qiFKkkH9oNU",
        "colab_type": "code",
        "colab": {
          "base_uri": "https://localhost:8080/",
          "height": 34
        },
        "outputId": "2d026277-a328-4502-8345-b44c65fa2201"
      },
      "source": [
        "print('abc'.find('z'))"
      ],
      "execution_count": null,
      "outputs": [
        {
          "output_type": "stream",
          "text": [
            "-1\n"
          ],
          "name": "stdout"
        }
      ]
    },
    {
      "cell_type": "code",
      "metadata": {
        "id": "EpuLxmY697q8",
        "colab_type": "code",
        "colab": {
          "base_uri": "https://localhost:8080/",
          "height": 34
        },
        "outputId": "f936ec15-1016-45e2-d53b-19f4505291e8"
      },
      "source": [
        "# setting the starting point for checking a string \n",
        "mystr='abc def abc' \n",
        "pos=mystr.find('abc',3) #look at positions 3+ \n",
        "print(pos) "
      ],
      "execution_count": null,
      "outputs": [
        {
          "output_type": "stream",
          "text": [
            "8\n"
          ],
          "name": "stdout"
        }
      ]
    },
    {
      "cell_type": "markdown",
      "metadata": {
        "id": "7LjracMV_s9h",
        "colab_type": "text"
      },
      "source": [
        "Use the startswith(aString) function to see if a string starts with aString."
      ]
    },
    {
      "cell_type": "code",
      "metadata": {
        "id": "Otp_4gqH_24P",
        "colab_type": "code",
        "colab": {
          "base_uri": "https://localhost:8080/",
          "height": 52
        },
        "outputId": "bb7d784d-0de8-4b37-b38c-6103de115f98"
      },
      "source": [
        "a1='The end'.startswith('End')\n",
        "print(a1)\n",
        "\n",
        "a2='The end'.startswith('The')\n",
        "print(a2)"
      ],
      "execution_count": null,
      "outputs": [
        {
          "output_type": "stream",
          "text": [
            "False\n",
            "True\n"
          ],
          "name": "stdout"
        }
      ]
    },
    {
      "cell_type": "markdown",
      "metadata": {
        "id": "iGPZ214WKXix",
        "colab_type": "text"
      },
      "source": [
        "Use the endswith(aString) function to see if the target string ends with aString"
      ]
    },
    {
      "cell_type": "code",
      "metadata": {
        "id": "ktJEAu3vKcuJ",
        "colab_type": "code",
        "colab": {
          "base_uri": "https://localhost:8080/",
          "height": 52
        },
        "outputId": "0bf3a473-c339-437a-fd64-538f0c0ff28b"
      },
      "source": [
        "a1='The end'.endswith('The')\n",
        "print(a1)\n",
        "\n",
        "a1='The end'.endswith('end')\n",
        "print(a1)"
      ],
      "execution_count": null,
      "outputs": [
        {
          "output_type": "stream",
          "text": [
            "False\n",
            "True\n"
          ],
          "name": "stdout"
        }
      ]
    },
    {
      "cell_type": "markdown",
      "metadata": {
        "id": "T1XDicOl-HMx",
        "colab_type": "text"
      },
      "source": [
        "Search a string for the word 'very' and return all the indexes where it is found. "
      ]
    },
    {
      "cell_type": "code",
      "metadata": {
        "id": "eXonm46q-KIC",
        "colab_type": "code",
        "colab": {
          "base_uri": "https://localhost:8080/",
          "height": 104
        },
        "outputId": "1120baf5-55f3-4c31-85cc-1ed045415ec9"
      },
      "source": [
        "teststr='the very, very quick brown fox jumped over very the lazy dog' \n",
        "\n",
        "i=0 # string position index\n",
        "\n",
        "# check if 'very' is at the start of teststr.\n",
        "if teststr.startswith('very'): \n",
        "    print('Found at the very start') \n",
        "\n",
        "# search through the rest of the string\n",
        "while i!=-1: \n",
        "    # if you forget the +1 then you are stuck in an infinite loop! \n",
        "    i=teststr.lower().find('very',i+1) \n",
        "    if i==-1: \n",
        "        print('No more found') \n",
        "        break \n",
        "    else: \n",
        "        print(i) \n",
        "print('Finished')"
      ],
      "execution_count": null,
      "outputs": [
        {
          "output_type": "stream",
          "text": [
            "4\n",
            "10\n",
            "43\n",
            "No more found\n",
            "Finished\n"
          ],
          "name": "stdout"
        }
      ]
    },
    {
      "cell_type": "markdown",
      "metadata": {
        "id": "lUL1-fHYAjW5",
        "colab_type": "text"
      },
      "source": [
        "### Replacing a string\n",
        "* Use the replace function to replace one string with another\n",
        "* Format is someString.replace(oldString, newString)\n",
        "* All instances of oldString will be replaced by newString in someString."
      ]
    },
    {
      "cell_type": "code",
      "metadata": {
        "id": "cuj-1FzxAmUy",
        "colab_type": "code",
        "colab": {
          "base_uri": "https://localhost:8080/",
          "height": 34
        },
        "outputId": "2e306cd9-15be-4bc3-fbbd-8826df2574a1"
      },
      "source": [
        "a1=\"Ha Ha Ha now you have done it\".replace('Ha','Ho')\n",
        "print(a1)"
      ],
      "execution_count": null,
      "outputs": [
        {
          "output_type": "stream",
          "text": [
            "Ho Ho Ho now you have done it\n"
          ],
          "name": "stdout"
        }
      ]
    },
    {
      "cell_type": "markdown",
      "metadata": {
        "id": "4KtP8fcwBhdj",
        "colab_type": "text"
      },
      "source": [
        "## Changing the case of a string \n",
        "* Use upper() or lower() string methods. \n",
        "* They do not change the original target string but return a new string with upper or lower case."
      ]
    },
    {
      "cell_type": "code",
      "metadata": {
        "id": "fyPQaTc2Bfs8",
        "colab_type": "code",
        "colab": {
          "base_uri": "https://localhost:8080/",
          "height": 52
        },
        "outputId": "c7a348c2-f634-404c-a853-6cb2729f7dc0"
      },
      "source": [
        "print('this was a lower case string'.upper()) \n",
        "print('From lower to UPPER'.lower())"
      ],
      "execution_count": null,
      "outputs": [
        {
          "output_type": "stream",
          "text": [
            "THIS WAS A LOWER CASE STRING\n",
            "from lower to upper\n"
          ],
          "name": "stdout"
        }
      ]
    },
    {
      "cell_type": "markdown",
      "metadata": {
        "id": "Yhjf4JcUFmun",
        "colab_type": "text"
      },
      "source": [
        "upper() or lower() are useful if you need to change the case to make a \n",
        "comparison since 'ABC' != 'abc' "
      ]
    },
    {
      "cell_type": "code",
      "metadata": {
        "id": "bphI-lZGFVOz",
        "colab_type": "code",
        "colab": {
          "base_uri": "https://localhost:8080/",
          "height": 52
        },
        "outputId": "be74cecf-e782-4d59-aff2-a7942cc97826"
      },
      "source": [
        "message='HELLO' \n",
        "answer='hello' in message \n",
        "print(\"'hello' in 'HELLO' = \"+str(answer)) \n",
        "\n",
        "answer='hello' in message.lower() \n",
        "print(\"'hello' in 'HELLO'.lower() = \"+str(answer)) "
      ],
      "execution_count": null,
      "outputs": [
        {
          "output_type": "stream",
          "text": [
            "'hello' in 'HELLO' = False\n",
            "'hello' in 'HELLO'.lower() = True\n"
          ],
          "name": "stdout"
        }
      ]
    },
    {
      "cell_type": "markdown",
      "metadata": {
        "id": "kjorIyd8GEpr",
        "colab_type": "text"
      },
      "source": [
        "## Checking strings using the IS... functions\n",
        "* Check the case of the string using isupper() and islower()\n",
        "* Check if the string contains only letters {a..z, A..Z} using isalpha()\n",
        "* Check if the string holds only alphanumerics {0-9, a..z, A..Z} using isalnum()\n",
        "* The isdecimal() method returns True if all the characters are decimals (0-9).\n",
        "* The isspace() function returns “True” if all characters in the string are whitespace characters (e.g. ' ', '\\n' or '\\t').\n",
        "* Use istitle() to check if the string is a title string, i.e. the first letter of each word is a capital letter, \"This Is A Title String\"."
      ]
    },
    {
      "cell_type": "code",
      "metadata": {
        "id": "-1Eu8EIEF77s",
        "colab_type": "code",
        "colab": {
          "base_uri": "https://localhost:8080/",
          "height": 86
        },
        "outputId": "22876fb6-92e7-4fbc-fc2d-5a189699006d"
      },
      "source": [
        "# Check the case \n",
        "print('this is lower case'.islower()) \n",
        "print('This Is Lower Case'.islower()) \n",
        "print('THIS IS UPPER CASE'.isupper()) \n",
        "print('THIS IS upper CASE'.isupper()) "
      ],
      "execution_count": null,
      "outputs": [
        {
          "output_type": "stream",
          "text": [
            "True\n",
            "False\n",
            "True\n",
            "False\n"
          ],
          "name": "stdout"
        }
      ]
    },
    {
      "cell_type": "code",
      "metadata": {
        "id": "CeqAfNP0GUA7",
        "colab_type": "code",
        "colab": {
          "base_uri": "https://localhost:8080/",
          "height": 69
        },
        "outputId": "a31ca6f1-cbde-4922-e734-16ba12664bc2"
      },
      "source": [
        "# check if a string holds only letters\n",
        "print('AbCdEfG'.isalpha()) \n",
        "print('abc123'.isalpha()) \n",
        "print('abc def ghi'.isalpha())"
      ],
      "execution_count": null,
      "outputs": [
        {
          "output_type": "stream",
          "text": [
            "True\n",
            "False\n",
            "False\n"
          ],
          "name": "stdout"
        }
      ]
    },
    {
      "cell_type": "code",
      "metadata": {
        "id": "gE83WdGKGwNe",
        "colab_type": "code",
        "colab": {
          "base_uri": "https://localhost:8080/",
          "height": 69
        },
        "outputId": "fa8e7c0c-6995-4e44-ba28-4d46514a50c9"
      },
      "source": [
        "# check if holds only numbers or letters and not blank \n",
        "print('abc123DEF456'.isalnum()) \n",
        "print('abc\\n123'.isalnum()) \n",
        "print('abc 123'.isalnum()) "
      ],
      "execution_count": null,
      "outputs": [
        {
          "output_type": "stream",
          "text": [
            "True\n",
            "False\n",
            "False\n"
          ],
          "name": "stdout"
        }
      ]
    },
    {
      "cell_type": "code",
      "metadata": {
        "id": "Z_h2KsvIHGsO",
        "colab_type": "code",
        "colab": {
          "base_uri": "https://localhost:8080/",
          "height": 52
        },
        "outputId": "2b34453a-d3a5-47c8-a7f7-aeced8e4a4d5"
      },
      "source": [
        "# check if only numbers 0-9 \n",
        "print('1234567890'.isdecimal()) \n",
        "print('123.456'.isdecimal()) "
      ],
      "execution_count": null,
      "outputs": [
        {
          "output_type": "stream",
          "text": [
            "True\n",
            "False\n"
          ],
          "name": "stdout"
        }
      ]
    },
    {
      "cell_type": "code",
      "metadata": {
        "id": "WteUuDekH4Tw",
        "colab_type": "code",
        "colab": {
          "base_uri": "https://localhost:8080/",
          "height": 86
        },
        "outputId": "04bfa1fd-e9b5-4700-d44a-3cc214a45603"
      },
      "source": [
        "# check if spaces, tabs or newline and is not blank \n",
        "print(' '.isspace()) \n",
        "print('\\t'.isspace()) \n",
        "print('\\n'.isspace()) \n",
        "print('Line 1\\nLine2'.isspace()) "
      ],
      "execution_count": null,
      "outputs": [
        {
          "output_type": "stream",
          "text": [
            "True\n",
            "True\n",
            "True\n",
            "False\n"
          ],
          "name": "stdout"
        }
      ]
    },
    {
      "cell_type": "code",
      "metadata": {
        "id": "SLixtsmyIwVj",
        "colab_type": "code",
        "colab": {
          "base_uri": "https://localhost:8080/",
          "height": 69
        },
        "outputId": "efc525ca-3777-4bb4-e2ff-fae115827b53"
      },
      "source": [
        "# check if a title, e.g. 'This Is A Title' - capitals for the first letter of each word \n",
        "print('This Is A Title'.istitle()) \n",
        "print('This Is NOT A Title'.istitle()) \n",
        "print('This is not a Title'.istitle()) "
      ],
      "execution_count": null,
      "outputs": [
        {
          "output_type": "stream",
          "text": [
            "True\n",
            "False\n",
            "False\n"
          ],
          "name": "stdout"
        }
      ]
    },
    {
      "cell_type": "markdown",
      "metadata": {
        "id": "jFOASeMrJNt4",
        "colab_type": "text"
      },
      "source": [
        "You can use the IS functions to validate user input.\n",
        "In the first example, the isdecimal() function is used to test whether the user input is a number. The second example utilises isalnum() to check if the user input is an alphanumeric value."
      ]
    },
    {
      "cell_type": "code",
      "metadata": {
        "id": "2N9JA4iIJUV3",
        "colab_type": "code",
        "colab": {
          "base_uri": "https://localhost:8080/",
          "height": 34
        },
        "outputId": "28c7dd71-3050-41ab-b6b9-2a849cbbda0c"
      },
      "source": [
        "# e.g. use isdecimal method to force user input to be numeric \n",
        "while True: \n",
        "    print('Enter an integer number:') \n",
        "    ans=input() \n",
        "    if ans.isdecimal(): \n",
        "        break \n",
        "    print('Your input was not an integer number...') \n",
        "print('Thank you, your entry was '+str(ans)) "
      ],
      "execution_count": null,
      "outputs": [
        {
          "output_type": "stream",
          "text": [
            "Enter an integer number:\n"
          ],
          "name": "stdout"
        }
      ]
    },
    {
      "cell_type": "code",
      "metadata": {
        "id": "a6itQVYOJy1F",
        "colab_type": "code",
        "colab": {}
      },
      "source": [
        "# e.g. use isalnum() to force user to enter letters or numbers only \n",
        "while True: \n",
        "    ans=input('Enter numbers or letters only:') \n",
        "    if ans.isalnum(): \n",
        "        break \n",
        "    print('Invalid input') \n",
        "print('Thank you') "
      ],
      "execution_count": null,
      "outputs": []
    },
    {
      "cell_type": "markdown",
      "metadata": {
        "id": "En_DjwJ9LCpk",
        "colab_type": "text"
      },
      "source": [
        "## Joining and splitting strings\n",
        "* The join function will create a single string from a list of strings. \n",
        "* The split function does the opposite of the join string. It will split the string into a list "
      ]
    },
    {
      "cell_type": "code",
      "metadata": {
        "id": "fZoR_3SwLSBS",
        "colab_type": "code",
        "colab": {}
      },
      "source": [
        "pets=['cat','dog','pigeon','mouse'] \n",
        "print('pets =',str(pets))\n",
        "myPets=' '.join(pets) # will put a space between items in the list. \n",
        "print('First use of join pets:', myPets)\n",
        "myPets=', '.join(pets) # will put ', ' between the items in the list \n",
        "print('My pets now include a '+myPets) "
      ],
      "execution_count": null,
      "outputs": []
    },
    {
      "cell_type": "code",
      "metadata": {
        "id": "v0itRCGnL5gH",
        "colab_type": "code",
        "colab": {}
      },
      "source": [
        "mystr='This is an example string' \n",
        "s=mystr.split() \n",
        "print(s)"
      ],
      "execution_count": null,
      "outputs": []
    },
    {
      "cell_type": "code",
      "metadata": {
        "id": "2mvQsWBLMQ2U",
        "colab_type": "code",
        "colab": {}
      },
      "source": [
        "# You can set a delimiter, e.g. a new line. \n",
        "mystr='''This string will \n",
        "go over several different \n",
        "lines....''' \n",
        "j=mystr.split('\\n') \n",
        "print(j)"
      ],
      "execution_count": null,
      "outputs": []
    },
    {
      "cell_type": "markdown",
      "metadata": {
        "id": "QZSdf-2TMuaR",
        "colab_type": "text"
      },
      "source": [
        "## Justifying strings \n",
        "* You can use rjust(...), ljust(...), center(...) to justify a string.\n",
        "* You can supply two arguments, the amount of space required and the fill character."
      ]
    },
    {
      "cell_type": "code",
      "metadata": {
        "id": "Yi602SKdMssX",
        "colab_type": "code",
        "colab": {}
      },
      "source": [
        "# right justify 'Hello'. Add the necessary number of spaces to 'Hello' to \n",
        "# form a string of total length 20. \n",
        "rj='Hello'.rjust(20) \n",
        "print(rj) \n",
        "\n",
        "# using '*' as the fill character instead of space ' ' \n",
        "rj='Hello'.rjust(10,'*') \n",
        "print(rj) \n",
        "\n",
        "# left justify, using the '.' as the fill character \n",
        "lj='Hello'.ljust(10,'.')\n",
        "print(lj) \n",
        "\n",
        "# centre \n",
        "c='Hi'.center(10,'*') \n",
        "print(c) "
      ],
      "execution_count": null,
      "outputs": []
    },
    {
      "cell_type": "markdown",
      "metadata": {
        "id": "qTlU_vsRObqD",
        "colab_type": "text"
      },
      "source": [
        "Example - using the justify functions to format a price menu."
      ]
    },
    {
      "cell_type": "code",
      "metadata": {
        "id": "-E51qUBSNjod",
        "colab_type": "code",
        "colab": {}
      },
      "source": [
        "# create a function to format a menu price list \n",
        "def menuItem(item, price): \n",
        "    line=item.ljust(20,'.')+('£'+str(price)).rjust(7) \n",
        "    return line \n",
        "\n",
        "# Create a small menu list\n",
        "print(menuItem('Peas',10)) \n",
        "print(menuItem('Beans',5)) \n",
        "print(menuItem('Rhubarb',14)) \n",
        "print(menuItem('Tea',12)) "
      ],
      "execution_count": null,
      "outputs": []
    },
    {
      "cell_type": "markdown",
      "metadata": {
        "id": "DmTgR8NJP0kg",
        "colab_type": "text"
      },
      "source": [
        "## Stripping a string\n",
        "* The strip() method removes any leading and trailing characters.\n",
        "* Space is the default leading character but you can specify others.\n",
        "* There is also lstrip and rstrip functions to remove the left and right leading/trailing characters."
      ]
    },
    {
      "cell_type": "code",
      "metadata": {
        "id": "U6MfsZMgOpOM",
        "colab_type": "code",
        "colab": {}
      },
      "source": [
        "text1='        Booo       ' \n",
        "t2=text1.strip() \n",
        "t3=text1.lstrip() \n",
        "t4=text1.rstrip() \n",
        "print('.'+text1+'.') \n",
        "print('.'+t2+'.') \n",
        "print('.'+t3+'.') \n",
        "print('.'+t4+'.')"
      ],
      "execution_count": null,
      "outputs": []
    },
    {
      "cell_type": "code",
      "metadata": {
        "id": "bY3NSDBHQB3I",
        "colab_type": "code",
        "colab": {}
      },
      "source": [
        "# The strip functions will accept string arguments and remove that argument from the end(s) \n",
        "text1=\"... Howdy ***\" \n",
        "print(text1.lstrip('.')) \n",
        "print(text1.strip('*')) "
      ],
      "execution_count": null,
      "outputs": []
    },
    {
      "cell_type": "markdown",
      "metadata": {
        "id": "4__npfmBQBEo",
        "colab_type": "text"
      },
      "source": [
        "putting a string, e.g. 'boo' will remove the letters 'b','o' from the left \n",
        "and right ends. The order of the letters is  not important. e.g. strip('boo') will remove 'boo', 'oob', 'boob', 'booboo', 'b', 'o' etc. from the left and right ends "
      ]
    },
    {
      "cell_type": "code",
      "metadata": {
        "id": "Cx0wriJ7QUFf",
        "colab_type": "code",
        "colab": {}
      },
      "source": [
        "print('oob YOU boo'.strip('boo')) \n",
        "print('boob YES oooooooo'.strip('boo')) \n",
        "print('bbb BRRR booboob'.strip('bo')) "
      ],
      "execution_count": null,
      "outputs": []
    }
  ]
}