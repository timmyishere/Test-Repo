{
  "nbformat": 4,
  "nbformat_minor": 0,
  "metadata": {
    "colab": {
      "name": "2020-05-20 Dictionaries.ipynb",
      "provenance": [],
      "collapsed_sections": [],
      "toc_visible": true,
      "authorship_tag": "ABX9TyPxS7UunmvfKo+lHi7S9h+Q",
      "include_colab_link": true
    },
    "kernelspec": {
      "name": "python3",
      "display_name": "Python 3"
    }
  },
  "cells": [
    {
      "cell_type": "markdown",
      "metadata": {
        "id": "view-in-github",
        "colab_type": "text"
      },
      "source": [
        "<a href=\"https://colab.research.google.com/github/timmyishere/Test-Repo/blob/master/2020_05_20_Dictionaries.ipynb\" target=\"_parent\"><img src=\"https://colab.research.google.com/assets/colab-badge.svg\" alt=\"Open In Colab\"/></a>"
      ]
    },
    {
      "cell_type": "markdown",
      "metadata": {
        "id": "3NZA8IJP98zx",
        "colab_type": "text"
      },
      "source": [
        "# Dictionary Data Structure\n",
        "* A dictionary is a collection of key-pair values\n",
        "* Each key has a corresponding value\n",
        "* The value can be a string, number, list or another dictionary\n"
      ]
    },
    {
      "cell_type": "markdown",
      "metadata": {
        "id": "tsUNlFR0E5Q1",
        "colab_type": "text"
      },
      "source": [
        "## Creating a dictionary\n",
        "- Use curly brackets { and }.\n",
        "- Dictionaries have a pair of values - the key and the value.\n",
        "- Use the format {key: value, key: value, ...}.\n",
        "- You can obtain the value if you know the key, e.g. *print(aDictionary[aKey])*\n",
        "\n"
      ]
    },
    {
      "cell_type": "code",
      "metadata": {
        "id": "T5Y2mxmv91mI",
        "colab_type": "code",
        "colab": {
          "base_uri": "https://localhost:8080/",
          "height": 52
        },
        "outputId": "b863406f-c0ab-4324-f7e7-367578627615"
      },
      "source": [
        "# create a simple dictionary \n",
        "#Name strings are keys and numbers are values \n",
        "myDict={'smith':60, 'jones':80, 'wilson':97, 'adams':88, 'lyons':45} \n",
        "print(myDict)\n",
        "\n",
        "#Use the key 'jones' to retrieve the value print\n",
        "print('Jones =',str(myDict['jones']))"
      ],
      "execution_count": null,
      "outputs": [
        {
          "output_type": "stream",
          "text": [
            "{'smith': 60, 'jones': 80, 'wilson': 97, 'adams': 88, 'lyons': 45}\n",
            "Jones = 80\n"
          ],
          "name": "stdout"
        }
      ]
    },
    {
      "cell_type": "markdown",
      "metadata": {
        "id": "pxxgbRrVFGyj",
        "colab_type": "text"
      },
      "source": [
        "### Creating an empty dictionary"
      ]
    },
    {
      "cell_type": "code",
      "metadata": {
        "id": "U2r9395VFGRd",
        "colab_type": "code",
        "colab": {}
      },
      "source": [
        "empty1={} \n",
        "empty2=dict() "
      ],
      "execution_count": null,
      "outputs": []
    },
    {
      "cell_type": "markdown",
      "metadata": {
        "id": "4_gBcQbsF7Wc",
        "colab_type": "text"
      },
      "source": [
        "## Using keys( ), values( ) and items( ) to examine a dictionary's contents \n",
        "- ***keys( )*** returns the keys.\n",
        "- ***values( )*** returns the values \n",
        "- ***item( )*** returns the key-value pairs \n",
        "- These methods return *LIST LIKE* values (but they are not actually lists so you cannot append to them) \n"
      ]
    },
    {
      "cell_type": "code",
      "metadata": {
        "id": "ODyNib-9F5nu",
        "colab_type": "code",
        "colab": {
          "base_uri": "https://localhost:8080/",
          "height": 69
        },
        "outputId": "b9ab14c9-00e5-4a89-aff6-8c70f0019c0d"
      },
      "source": [
        "myDict={'smith':60, 'jones':80, 'wilson':97, 'adams':88, 'lyons':45}\n",
        "k=myDict.keys() \n",
        "v=myDict.values() \n",
        "kv=myDict.items() \n",
        "print(k)\n",
        "print(v)\n",
        "print(kv)"
      ],
      "execution_count": null,
      "outputs": [
        {
          "output_type": "stream",
          "text": [
            "dict_keys(['smith', 'jones', 'wilson', 'adams', 'lyons'])\n",
            "dict_values([60, 80, 97, 88, 45])\n",
            "dict_items([('smith', 60), ('jones', 80), ('wilson', 97), ('adams', 88), ('lyons', 45)])\n"
          ],
          "name": "stdout"
        }
      ]
    },
    {
      "cell_type": "markdown",
      "metadata": {
        "id": "V1w8x5wHHR0c",
        "colab_type": "text"
      },
      "source": [
        "You *cannot* access individual elements like you would with a list. The returned objects do not support indexing."
      ]
    },
    {
      "cell_type": "code",
      "metadata": {
        "id": "PQ6GrR3BHW1s",
        "colab_type": "code",
        "colab": {}
      },
      "source": [
        "#print(k[1])\n",
        "#print(v[1])\n",
        "#print(kv[1])"
      ],
      "execution_count": null,
      "outputs": []
    },
    {
      "cell_type": "markdown",
      "metadata": {
        "id": "kawDGqFQH51-",
        "colab_type": "text"
      },
      "source": [
        "Use for loops to read the values of k, v, kv."
      ]
    },
    {
      "cell_type": "code",
      "metadata": {
        "id": "1LEOULetH-rH",
        "colab_type": "code",
        "colab": {
          "base_uri": "https://localhost:8080/",
          "height": 121
        },
        "outputId": "59f60b79-54f1-4ce9-dd5c-4de584854ff7"
      },
      "source": [
        "myDict={'smith':60, 'jones':80, 'wilson':97, 'adams':88, 'lyons':45}\n",
        "k=myDict.keys() \n",
        "v=myDict.values() \n",
        "kv=myDict.items() \n",
        "\n",
        "#use a for loop to iterate over the keys \n",
        "for x in k: \n",
        "    print(x) \n",
        "print('-----------------') "
      ],
      "execution_count": null,
      "outputs": [
        {
          "output_type": "stream",
          "text": [
            "smith\n",
            "jones\n",
            "wilson\n",
            "adams\n",
            "lyons\n",
            "-----------------\n"
          ],
          "name": "stdout"
        }
      ]
    },
    {
      "cell_type": "code",
      "metadata": {
        "id": "fs8-OZB5I2Rg",
        "colab_type": "code",
        "colab": {
          "base_uri": "https://localhost:8080/",
          "height": 121
        },
        "outputId": "ff3365e2-7fe5-419c-9c23-2db34a917ffe"
      },
      "source": [
        "#use a for loop to iterate over values \n",
        "for y in v: \n",
        "    print(y) \n",
        "print('-----------------') "
      ],
      "execution_count": null,
      "outputs": [
        {
          "output_type": "stream",
          "text": [
            "60\n",
            "80\n",
            "97\n",
            "88\n",
            "45\n",
            "-----------------\n"
          ],
          "name": "stdout"
        }
      ]
    },
    {
      "cell_type": "code",
      "metadata": {
        "id": "gf-3rrk2JCib",
        "colab_type": "code",
        "colab": {
          "base_uri": "https://localhost:8080/",
          "height": 121
        },
        "outputId": "8d44bc46-e608-4fad-e3c0-a6b5a66c9fd1"
      },
      "source": [
        "#use for loop to print key value pairs \n",
        "for z in kv: \n",
        "    print(z) \n",
        "print('-----------------') "
      ],
      "execution_count": null,
      "outputs": [
        {
          "output_type": "stream",
          "text": [
            "('smith', 60)\n",
            "('jones', 80)\n",
            "('wilson', 97)\n",
            "('adams', 88)\n",
            "('lyons', 45)\n",
            "-----------------\n"
          ],
          "name": "stdout"
        }
      ]
    },
    {
      "cell_type": "code",
      "metadata": {
        "id": "hJ1ZRMKMIu4F",
        "colab_type": "code",
        "colab": {
          "base_uri": "https://localhost:8080/",
          "height": 104
        },
        "outputId": "a886dba0-5f0d-4415-986b-0532b5863207"
      },
      "source": [
        "# Use a for loop and multiple assignments to print the key-value pairs \n",
        "for k,v in myDict.items(): \n",
        "    print('Key='+k+' \\tvalue='+str(v)) "
      ],
      "execution_count": null,
      "outputs": [
        {
          "output_type": "stream",
          "text": [
            "Key=smith \tvalue=60\n",
            "Key=jones \tvalue=80\n",
            "Key=wilson \tvalue=97\n",
            "Key=adams \tvalue=88\n",
            "Key=lyons \tvalue=45\n"
          ],
          "name": "stdout"
        }
      ]
    },
    {
      "cell_type": "markdown",
      "metadata": {
        "id": "XY2xpAPhJo1o",
        "colab_type": "text"
      },
      "source": [
        "## Sorting a list in order of its keys \n",
        "- Normally dictionaries are unordered. \n",
        "- You convert keys into a list object and then sort the list. \n",
        "- You then print the dictionary in a sorted list of keys order. \n"
      ]
    },
    {
      "cell_type": "code",
      "metadata": {
        "id": "X1XxZc4OKFIY",
        "colab_type": "code",
        "colab": {
          "base_uri": "https://localhost:8080/",
          "height": 225
        },
        "outputId": "80ea9dc2-37b3-4bef-faac-478dfa8b64d1"
      },
      "source": [
        "myDict={'smith':60, 'jones':80, 'wilson':97, 'adams':88, 'lyons':45}\n",
        "k=myDict.keys() \n",
        "\n",
        "# create a list from the keys in the dictionary\n",
        "keyList=list(k) \n",
        "print('Before sorting the keys:')\n",
        "print(keyList) \n",
        "\n",
        "# sort the list using the sort method \n",
        "keyList.sort() \n",
        "print('\\nAfter sorting the list of keys')\n",
        "print(keyList)\n",
        "\n",
        "# print the sorted key list with their values\n",
        "print('\\nNow we use a loop to print the key value pairs in order of key') \n",
        "for kl in keyList: \n",
        "    print(kl+' gives '+str(myDict[kl])) "
      ],
      "execution_count": null,
      "outputs": [
        {
          "output_type": "stream",
          "text": [
            "Before sorting the keys:\n",
            "['smith', 'jones', 'wilson', 'adams', 'lyons']\n",
            "\n",
            "After sorting the list of keys\n",
            "['adams', 'jones', 'lyons', 'smith', 'wilson']\n",
            "\n",
            "Now we use a loop to print the key value pairs in order of key\n",
            "adams gives 88\n",
            "jones gives 80\n",
            "lyons gives 45\n",
            "smith gives 60\n",
            "wilson gives 97\n"
          ],
          "name": "stdout"
        }
      ]
    },
    {
      "cell_type": "markdown",
      "metadata": {
        "id": "Ny2FnSp7KqCU",
        "colab_type": "text"
      },
      "source": [
        "## Checking a value is in a dictionary \n",
        "\n",
        "- use the in and not in operators "
      ]
    },
    {
      "cell_type": "code",
      "metadata": {
        "id": "BKiv0FE4K1zq",
        "colab_type": "code",
        "colab": {
          "base_uri": "https://localhost:8080/",
          "height": 69
        },
        "outputId": "a72a777a-05af-4dd4-e9d7-dfd6e96f8f0d"
      },
      "source": [
        "print('Is wilson in the dictionary? '+str('wilson' in myDict.keys())) \n",
        "print('Is arnold in the dictionary? '+str('arnold' in myDict.keys())) \n",
        "print('Is arnold not in the dictionary? '+str('arnold' not in myDict.keys())) "
      ],
      "execution_count": null,
      "outputs": [
        {
          "output_type": "stream",
          "text": [
            "Is wilson in the dictionary? True\n",
            "Is arnold in the dictionary? False\n",
            "Is arnold not in the dictionary? True\n"
          ],
          "name": "stdout"
        }
      ]
    },
    {
      "cell_type": "markdown",
      "metadata": {
        "id": "yZ2a3dyNVgYf",
        "colab_type": "text"
      },
      "source": [
        "## Adding items to the dictionary \n",
        "Each time you add to a dictionary you need to specify a new key and its associated value. "
      ]
    },
    {
      "cell_type": "code",
      "metadata": {
        "id": "UtKKzJusVUWR",
        "colab_type": "code",
        "colab": {
          "base_uri": "https://localhost:8080/",
          "height": 52
        },
        "outputId": "29cc8a06-9b45-4dd3-f5fc-c043d8ed12f1"
      },
      "source": [
        "myDict={'smith':12, 'jones':13}\n",
        "print(\"Before = \"+str(myDict))\n",
        "myDict['groves']=48 \n",
        "myDict['williams']=50\n",
        "print(\"After = \"+str(myDict))"
      ],
      "execution_count": null,
      "outputs": [
        {
          "output_type": "stream",
          "text": [
            "Before = {'smith': 12, 'jones': 13}\n",
            "After = {'smith': 12, 'jones': 13, 'groves': 48, 'williams': 50}\n"
          ],
          "name": "stdout"
        }
      ]
    },
    {
      "cell_type": "markdown",
      "metadata": {
        "id": "sPs7ANwBNuPt",
        "colab_type": "text"
      },
      "source": [
        "## Modifying a Dictionary\n",
        "* Given the key, you can change the value associated with that key.\n",
        "* aDictionary[aKey]=newValue"
      ]
    },
    {
      "cell_type": "code",
      "metadata": {
        "id": "gMhGpslbOL4U",
        "colab_type": "code",
        "colab": {
          "base_uri": "https://localhost:8080/",
          "height": 52
        },
        "outputId": "4532896c-2e0c-4e63-c859-0df74b7af105"
      },
      "source": [
        "myDict={'smith':12, 'jones':13}\n",
        "print(\"Before = \"+str(myDict))\n",
        "myDict['smith']=50\n",
        "print(\"After = \"+str(myDict))"
      ],
      "execution_count": null,
      "outputs": [
        {
          "output_type": "stream",
          "text": [
            "Before = {'smith': 12, 'jones': 13}\n",
            "After = {'smith': 50, 'jones': 13}\n"
          ],
          "name": "stdout"
        }
      ]
    },
    {
      "cell_type": "markdown",
      "metadata": {
        "id": "XdJM2AOhV75l",
        "colab_type": "text"
      },
      "source": [
        "## The get( ) method \n",
        "Returns the value for a given key. It has two arguments:\n",
        "- the key you want to find, \n",
        "- what is the value you want returned if the key isn't there. \n",
        "- The format is: *aDictionary.get(key, backupAnswer)*\n"
      ]
    },
    {
      "cell_type": "code",
      "metadata": {
        "id": "9qOjuql4WSnq",
        "colab_type": "code",
        "colab": {
          "base_uri": "https://localhost:8080/",
          "height": 69
        },
        "outputId": "e1a9848f-2a2b-403d-9f7d-43728aabec51"
      },
      "source": [
        "myDict={'smith':60, 'jones':80, 'wilson':97, 'adams':88, 'lyons':45}\n",
        "print('adams='+str(myDict.get('adams',20))) \n",
        "print('Looking for johnson but it not there so return Johnson: '+str(myDict.get('johnson',20))) \n",
        "#get() does NOT add 'johnson':20 to myDict!!!! \n",
        "myDict "
      ],
      "execution_count": null,
      "outputs": [
        {
          "output_type": "stream",
          "text": [
            "adams=88\n",
            "Looking for johnson but it not there so return Johnson: 20\n"
          ],
          "name": "stdout"
        },
        {
          "output_type": "execute_result",
          "data": {
            "text/plain": [
              "{'adams': 88, 'jones': 80, 'lyons': 45, 'smith': 60, 'wilson': 97}"
            ]
          },
          "metadata": {
            "tags": []
          },
          "execution_count": 13
        }
      ]
    },
    {
      "cell_type": "markdown",
      "metadata": {
        "id": "wVzEsS5EYUdX",
        "colab_type": "text"
      },
      "source": [
        "## The setdefault method \n",
        "I want to check if a key has been added to my dictionary. If it is not there, then I want to add it to the dictionary and set its value \n"
      ]
    },
    {
      "cell_type": "code",
      "metadata": {
        "id": "T-96OJ2wZDGz",
        "colab_type": "code",
        "colab": {
          "base_uri": "https://localhost:8080/",
          "height": 139
        },
        "outputId": "c1377dd2-966e-4ab1-8ffc-a356d42006e2"
      },
      "source": [
        "myDict={'smith':60, 'jones':70, 'williams':80} \n",
        "print('Initial dictionary, myDict =',str(myDict))\n",
        "\n",
        "# without using setdefault: \n",
        "if ('andrews' not in myDict.keys()): \n",
        "  myDict['andrews']=50 \n",
        "\n",
        "# using setdefault to add a key-value pair - alternative to above code. \n",
        "myDict.setdefault('moran',44) \n",
        "print('\\nAdded andrews and moran to the list:')\n",
        "print(str(myDict)) \n",
        "\n",
        "# using setdefault with a key that already exists in myDict has no effect - value for moran remains at 44. \n",
        "myDict.setdefault('moran',66) \n",
        "print('\\nTrying to add moran again using setdefault by setting value to 66:')\n",
        "print(str(myDict)) "
      ],
      "execution_count": null,
      "outputs": [
        {
          "output_type": "stream",
          "text": [
            "Initial dictionary, myDict = {'smith': 60, 'jones': 70, 'williams': 80}\n",
            "\n",
            "Added andrews and moran to the list:\n",
            "{'smith': 60, 'jones': 70, 'williams': 80, 'andrews': 50, 'moran': 44}\n",
            "\n",
            "Trying to add moran again using setdefault by setting value to 66:\n",
            "{'smith': 60, 'jones': 70, 'williams': 80, 'andrews': 50, 'moran': 44}\n"
          ],
          "name": "stdout"
        }
      ]
    },
    {
      "cell_type": "markdown",
      "metadata": {
        "id": "qewvkaOWZ1nM",
        "colab_type": "text"
      },
      "source": [
        "## Removing items from the dictionary \n",
        "use the del command to delete the key.\n"
      ]
    },
    {
      "cell_type": "code",
      "metadata": {
        "id": "1gGhO2y7Z01z",
        "colab_type": "code",
        "colab": {
          "base_uri": "https://localhost:8080/",
          "height": 34
        },
        "outputId": "3b70a4b9-58d7-4710-bc48-38463584c688"
      },
      "source": [
        " myDict={'smith':30, 'jones':40, 'walters':50, 'cornwell':60} \n",
        " del myDict['jones'] \n",
        " print(myDict)"
      ],
      "execution_count": null,
      "outputs": [
        {
          "output_type": "stream",
          "text": [
            "{'smith': 30, 'walters': 50, 'cornwell': 60}\n"
          ],
          "name": "stdout"
        }
      ]
    },
    {
      "cell_type": "markdown",
      "metadata": {
        "id": "a_eyPmaZPcX5",
        "colab_type": "text"
      },
      "source": [
        "## Looping through a dictionary\n",
        "* use a for loop to go through a dictionary\n",
        "* use the keys( ) function to get a get the keys,\n",
        "* use the values( ) function to get the values\n",
        "* use items( ) to get the key-value pairs"
      ]
    },
    {
      "cell_type": "code",
      "metadata": {
        "id": "OahxDaZYP-HB",
        "colab_type": "code",
        "colab": {
          "base_uri": "https://localhost:8080/",
          "height": 69
        },
        "outputId": "787ed6f5-73bb-4a10-d434-0f4eb3118edd"
      },
      "source": [
        "myDict={'arnold':10, 'beth':20, 'carol':30}\n",
        "for k, v in myDict.items():\n",
        "    print('key='+str(k)+\", value=\"+str(v))"
      ],
      "execution_count": null,
      "outputs": [
        {
          "output_type": "stream",
          "text": [
            "key=arnold, value=10\n",
            "key=beth, value=20\n",
            "key=carol, value=30\n"
          ],
          "name": "stdout"
        }
      ]
    },
    {
      "cell_type": "markdown",
      "metadata": {
        "id": "ZeJVUByhSVo6",
        "colab_type": "text"
      },
      "source": [
        "If you need the dictionary sorting into key order then you can use the sorted(...) function. \n",
        "This is an alternative to casting the dictionary keys into a list described in other sections."
      ]
    },
    {
      "cell_type": "code",
      "metadata": {
        "id": "6f-cNbc9RqE0",
        "colab_type": "code",
        "colab": {
          "base_uri": "https://localhost:8080/",
          "height": 69
        },
        "outputId": "b91f1d17-2c3d-480a-99e7-f9d9e02e01ff"
      },
      "source": [
        "myDict={'beth':20, 'arnold':10, 'carol':30}\n",
        "for k in sorted(myDict.keys()):\n",
        "    print('key='+str(k)+\", value=\"+str(myDict[k]))"
      ],
      "execution_count": null,
      "outputs": [
        {
          "output_type": "stream",
          "text": [
            "key=arnold, value=10\n",
            "key=beth, value=20\n",
            "key=carol, value=30\n"
          ],
          "name": "stdout"
        }
      ]
    },
    {
      "cell_type": "markdown",
      "metadata": {
        "id": "Va5c-1h7Y5MV",
        "colab_type": "text"
      },
      "source": [
        "## Getting a set of unique values\n",
        "You can use the set(...) function to get a set of unique values."
      ]
    },
    {
      "cell_type": "code",
      "metadata": {
        "id": "PENlz3n1ZDMG",
        "colab_type": "code",
        "colab": {
          "base_uri": "https://localhost:8080/",
          "height": 69
        },
        "outputId": "f08b9749-177d-4e53-e567-bff27f6cd429"
      },
      "source": [
        "favTeams={'jones': 'Man Utd', 'smith': 'Arsenal', 'wilson': 'Man Utd', 'white': 'Chelsea'}\n",
        "for v in set(favTeams.values()):\n",
        "    print(v)"
      ],
      "execution_count": null,
      "outputs": [
        {
          "output_type": "stream",
          "text": [
            "Arsenal\n",
            "Chelsea\n",
            "Man Utd\n"
          ],
          "name": "stdout"
        }
      ]
    },
    {
      "cell_type": "markdown",
      "metadata": {
        "id": "ZSq5IUrraX4d",
        "colab_type": "text"
      },
      "source": [
        "## Using a dictionary to count the number of letters in some text \n",
        "Count the number of times a character appears in a section of text.\n",
        "- Line 1 - sets the text we are going to search.\n",
        "- Line 2 - The *characterCount* variable references an empty dictionary which we will fill with key-value pairs as we go through the text.\n",
        "- The keys will be the characters in *text* and the values will be the number of times those characters appear in *text*. \n",
        "- e.g. 'T' will be the key and it will have a corresponding value of 1.\n",
        "- Line 3 - We are going to use a loop to examine every character in *text*.\n",
        "- Line 4 - Because we use the setDefault function, the first time we encounter a specific character, its count will be initialised to zero. If this is the second encounter etc. then setDefault does nothing.\n",
        "- Line 5 - We Increment the value stored in the dictionary characterCount by 1 every time you come across a given character, e.g. if spotted a third 'e', then value of characterCount['e'] is changed from 2 to 3.\n",
        "- Line 6 - we are outside the loop because we have reached the end of the text. It is time to print our character count. \n"
      ]
    },
    {
      "cell_type": "code",
      "metadata": {
        "id": "IGvzM21YatbW",
        "colab_type": "code",
        "colab": {
          "base_uri": "https://localhost:8080/",
          "height": 54
        },
        "outputId": "85d8099c-0043-4ce3-ab7d-e943cc51e2c8"
      },
      "source": [
        "text='The extremely quick brown fox jumped over the very lazy dog.' \n",
        "characterCount={} \n",
        "for aCharacter in text: \n",
        "    characterCount.setdefault(aCharacter,0) \n",
        "    characterCount[aCharacter]+=1 \n",
        "print(characterCount)"
      ],
      "execution_count": null,
      "outputs": [
        {
          "output_type": "stream",
          "text": [
            "{'T': 1, 'h': 2, 'e': 8, ' ': 10, 'x': 2, 't': 2, 'r': 4, 'm': 2, 'l': 2, 'y': 3, 'q': 1, 'u': 2, 'i': 1, 'c': 1, 'k': 1, 'b': 1, 'o': 4, 'w': 1, 'n': 1, 'f': 1, 'j': 1, 'p': 1, 'd': 2, 'v': 2, 'a': 1, 'z': 1, 'g': 1, '.': 1}\n"
          ],
          "name": "stdout"
        }
      ]
    },
    {
      "cell_type": "markdown",
      "metadata": {
        "id": "hy1Hm03MiGwz",
        "colab_type": "text"
      },
      "source": [
        "The output is not very useful. Ideally we would want to sort the characters into order.\n",
        "\n",
        "- Line 1: get a list of the keys - i.e. characters in text. No duplication because the keys must be unique.  \n",
        "- Line 3: get a list of the values - i.e. count for each character \n",
        "- Line 5: use items to print the key-value pairs  \n",
        "- Lines 8 & 9:  convert the keys into a list which I can sort \n",
        "- Line 13 & 14 print of the list of characters in order and their frequency for c in kList. \n"
      ]
    },
    {
      "cell_type": "code",
      "metadata": {
        "id": "BlewUHiviahE",
        "colab_type": "code",
        "colab": {
          "base_uri": "https://localhost:8080/",
          "height": 662
        },
        "outputId": "282c17df-56f4-4aa6-c701-dc7476d54f7b"
      },
      "source": [
        "k=characterCount.keys() \n",
        "print(k)\n",
        "v=characterCount.values() \n",
        "print(v) \n",
        "print(characterCount.items())\n",
        "\n",
        "print('\\n------')\n",
        "kList=list(characterCount.keys()) \n",
        "kList.sort() \n",
        "print(kList) \n",
        "\n",
        "print('\\n------')\n",
        "for c in kList: \n",
        "  print('Character=\\''+c+'\\'\\t count='+str(characterCount[c])) \n",
        " "
      ],
      "execution_count": null,
      "outputs": [
        {
          "output_type": "stream",
          "text": [
            "dict_keys(['T', 'h', 'e', ' ', 'x', 't', 'r', 'm', 'l', 'y', 'q', 'u', 'i', 'c', 'k', 'b', 'o', 'w', 'n', 'f', 'j', 'p', 'd', 'v', 'a', 'z', 'g', '.'])\n",
            "dict_values([1, 2, 8, 10, 2, 2, 4, 2, 2, 3, 1, 2, 1, 1, 1, 1, 4, 1, 1, 1, 1, 1, 2, 2, 1, 1, 1, 1])\n",
            "dict_items([('T', 1), ('h', 2), ('e', 8), (' ', 10), ('x', 2), ('t', 2), ('r', 4), ('m', 2), ('l', 2), ('y', 3), ('q', 1), ('u', 2), ('i', 1), ('c', 1), ('k', 1), ('b', 1), ('o', 4), ('w', 1), ('n', 1), ('f', 1), ('j', 1), ('p', 1), ('d', 2), ('v', 2), ('a', 1), ('z', 1), ('g', 1), ('.', 1)])\n",
            "\n",
            "------\n",
            "[' ', '.', 'T', 'a', 'b', 'c', 'd', 'e', 'f', 'g', 'h', 'i', 'j', 'k', 'l', 'm', 'n', 'o', 'p', 'q', 'r', 't', 'u', 'v', 'w', 'x', 'y', 'z']\n",
            "\n",
            "------\n",
            "Character=' '\t count=10\n",
            "Character='.'\t count=1\n",
            "Character='T'\t count=1\n",
            "Character='a'\t count=1\n",
            "Character='b'\t count=1\n",
            "Character='c'\t count=1\n",
            "Character='d'\t count=2\n",
            "Character='e'\t count=8\n",
            "Character='f'\t count=1\n",
            "Character='g'\t count=1\n",
            "Character='h'\t count=2\n",
            "Character='i'\t count=1\n",
            "Character='j'\t count=1\n",
            "Character='k'\t count=1\n",
            "Character='l'\t count=2\n",
            "Character='m'\t count=2\n",
            "Character='n'\t count=1\n",
            "Character='o'\t count=4\n",
            "Character='p'\t count=1\n",
            "Character='q'\t count=1\n",
            "Character='r'\t count=4\n",
            "Character='t'\t count=2\n",
            "Character='u'\t count=2\n",
            "Character='v'\t count=2\n",
            "Character='w'\t count=1\n",
            "Character='x'\t count=2\n",
            "Character='y'\t count=3\n",
            "Character='z'\t count=1\n"
          ],
          "name": "stdout"
        }
      ]
    },
    {
      "cell_type": "markdown",
      "metadata": {
        "id": "cYZGzWgwk6Sf",
        "colab_type": "text"
      },
      "source": [
        "## Pretty printing with pprint.pprint \n",
        "\n",
        "pprint produces much cleaner output to the screen, with the # characters arranged in order. "
      ]
    },
    {
      "cell_type": "code",
      "metadata": {
        "id": "I_MfNKoQlaym",
        "colab_type": "code",
        "colab": {
          "base_uri": "https://localhost:8080/",
          "height": 347
        },
        "outputId": "2e905f3a-7c2c-4c00-d83e-8b9c7d3a1959"
      },
      "source": [
        "import pprint \n",
        "text='a cool dark minx walked along the street today' \n",
        "count={} \n",
        "for character in text: \n",
        "    count.setdefault(character,0) \n",
        "    count[character]+=1 \n",
        "pprint.pprint(count) "
      ],
      "execution_count": null,
      "outputs": [
        {
          "output_type": "stream",
          "text": [
            "{' ': 8,\n",
            " 'a': 5,\n",
            " 'c': 1,\n",
            " 'd': 3,\n",
            " 'e': 4,\n",
            " 'g': 1,\n",
            " 'h': 1,\n",
            " 'i': 1,\n",
            " 'k': 2,\n",
            " 'l': 3,\n",
            " 'm': 1,\n",
            " 'n': 2,\n",
            " 'o': 4,\n",
            " 'r': 2,\n",
            " 's': 1,\n",
            " 't': 4,\n",
            " 'w': 1,\n",
            " 'x': 1,\n",
            " 'y': 1}\n"
          ],
          "name": "stdout"
        }
      ]
    },
    {
      "cell_type": "markdown",
      "metadata": {
        "id": "E1ndzT_9mXzw",
        "colab_type": "text"
      },
      "source": [
        "## Pretty strings with pprint.pformat\n",
        "\n",
        "This example creates a function called textcount which will return a count of every character when supplied with a piece of text. It makes use of the pprint.pformat( ) function.\n",
        "\n",
        "https://docs.python.org/3/library/pprint.html\n",
        "\n"
      ]
    },
    {
      "cell_type": "code",
      "metadata": {
        "id": "poy56Rgml3q4",
        "colab_type": "code",
        "colab": {
          "base_uri": "https://localhost:8080/",
          "height": 260
        },
        "outputId": "b3001d8f-2e7a-4544-808a-1c92d4c8e48f"
      },
      "source": [
        "import pprint \n",
        " \n",
        "def textcount(text): \n",
        "  count={} \n",
        "  for c in text: \n",
        "    count.setdefault(c,0) \n",
        "    count[c]+=1 \n",
        "  return pprint.pformat(count) #returns a pretty string \n",
        "\n",
        "text='oh no not another line of code to count'\n",
        "print(textcount(text)) "
      ],
      "execution_count": null,
      "outputs": [
        {
          "output_type": "stream",
          "text": [
            "{' ': 8,\n",
            " 'a': 1,\n",
            " 'c': 2,\n",
            " 'd': 1,\n",
            " 'e': 3,\n",
            " 'f': 1,\n",
            " 'h': 2,\n",
            " 'i': 1,\n",
            " 'l': 1,\n",
            " 'n': 5,\n",
            " 'o': 8,\n",
            " 'r': 1,\n",
            " 't': 4,\n",
            " 'u': 1}\n"
          ],
          "name": "stdout"
        }
      ]
    }
  ]
}